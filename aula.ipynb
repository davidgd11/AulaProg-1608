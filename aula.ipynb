{
 "cells": [
  {
   "cell_type": "code",
   "execution_count": 1,
   "metadata": {},
   "outputs": [],
   "source": [
    "import pandas as pd"
   ]
  },
  {
   "cell_type": "code",
   "execution_count": 13,
   "metadata": {},
   "outputs": [
    {
     "data": {
      "text/html": [
       "<div>\n",
       "<style scoped>\n",
       "    .dataframe tbody tr th:only-of-type {\n",
       "        vertical-align: middle;\n",
       "    }\n",
       "\n",
       "    .dataframe tbody tr th {\n",
       "        vertical-align: top;\n",
       "    }\n",
       "\n",
       "    .dataframe thead th {\n",
       "        text-align: right;\n",
       "    }\n",
       "</style>\n",
       "<table border=\"1\" class=\"dataframe\">\n",
       "  <thead>\n",
       "    <tr style=\"text-align: right;\">\n",
       "      <th></th>\n",
       "      <th>Origem</th>\n",
       "      <th>Destino</th>\n",
       "      <th>Quantidade_Corridas</th>\n",
       "    </tr>\n",
       "  </thead>\n",
       "  <tbody>\n",
       "    <tr>\n",
       "      <th>0</th>\n",
       "      <td>Centro</td>\n",
       "      <td>Zona Sul</td>\n",
       "      <td>120</td>\n",
       "    </tr>\n",
       "    <tr>\n",
       "      <th>1</th>\n",
       "      <td>Centro</td>\n",
       "      <td>Zona Norte</td>\n",
       "      <td>95</td>\n",
       "    </tr>\n",
       "    <tr>\n",
       "      <th>2</th>\n",
       "      <td>Zona Norte</td>\n",
       "      <td>Centro</td>\n",
       "      <td>150</td>\n",
       "    </tr>\n",
       "    <tr>\n",
       "      <th>3</th>\n",
       "      <td>Zona Sul</td>\n",
       "      <td>Centro</td>\n",
       "      <td>80</td>\n",
       "    </tr>\n",
       "    <tr>\n",
       "      <th>4</th>\n",
       "      <td>Centro</td>\n",
       "      <td>Zona Oeste</td>\n",
       "      <td>110</td>\n",
       "    </tr>\n",
       "    <tr>\n",
       "      <th>5</th>\n",
       "      <td>Zona Oeste</td>\n",
       "      <td>Centro</td>\n",
       "      <td>60</td>\n",
       "    </tr>\n",
       "  </tbody>\n",
       "</table>\n",
       "</div>"
      ],
      "text/plain": [
       "       Origem     Destino  Quantidade_Corridas\n",
       "0      Centro    Zona Sul                  120\n",
       "1      Centro  Zona Norte                   95\n",
       "2  Zona Norte      Centro                  150\n",
       "3    Zona Sul      Centro                   80\n",
       "4      Centro  Zona Oeste                  110\n",
       "5  Zona Oeste      Centro                   60"
      ]
     },
     "metadata": {},
     "output_type": "display_data"
    },
    {
     "name": "stdout",
     "output_type": "stream",
     "text": [
      " \n",
      "[('Centro', 'Zona Sul'), ('Zona Norte', 'Centro'), ('Centro', 'Zona Oeste')]\n"
     ]
    }
   ],
   "source": [
    "dados = {\n",
    "    'Origem': ['Centro', 'Centro', 'Zona Norte', 'Zona Sul', 'Centro', 'Zona Oeste'],\n",
    "    'Destino':['Zona Sul', 'Zona Norte', 'Centro', 'Centro', 'Zona Oeste', 'Centro'],\n",
    "    'Quantidade_Corridas': [120, 95, 150, 80, 110, 60]\n",
    "}\n",
    "\n",
    "df = pd.DataFrame(dados)\n",
    "display(df)\n",
    "\n",
    "rotas_alta_demanda = []\n",
    "\n",
    "for index, row in df.iterrows():\n",
    "    if row['Quantidade_Corridas'] > 100:\n",
    "        rotas_alta_demanda.append((row['Origem'], row ['Destino']))\n",
    "\n",
    "print(\" \")\n",
    "print(rotas_alta_demanda)"
   ]
  },
  {
   "cell_type": "code",
   "execution_count": 21,
   "metadata": {},
   "outputs": [
    {
     "data": {
      "text/html": [
       "<div>\n",
       "<style scoped>\n",
       "    .dataframe tbody tr th:only-of-type {\n",
       "        vertical-align: middle;\n",
       "    }\n",
       "\n",
       "    .dataframe tbody tr th {\n",
       "        vertical-align: top;\n",
       "    }\n",
       "\n",
       "    .dataframe thead th {\n",
       "        text-align: right;\n",
       "    }\n",
       "</style>\n",
       "<table border=\"1\" class=\"dataframe\">\n",
       "  <thead>\n",
       "    <tr style=\"text-align: right;\">\n",
       "      <th></th>\n",
       "      <th>Produto</th>\n",
       "      <th>Quantidade_Vendida</th>\n",
       "      <th>Preco</th>\n",
       "    </tr>\n",
       "  </thead>\n",
       "  <tbody>\n",
       "    <tr>\n",
       "      <th>0</th>\n",
       "      <td>Camiseta</td>\n",
       "      <td>50</td>\n",
       "      <td>30</td>\n",
       "    </tr>\n",
       "    <tr>\n",
       "      <th>1</th>\n",
       "      <td>Calça</td>\n",
       "      <td>20</td>\n",
       "      <td>150</td>\n",
       "    </tr>\n",
       "    <tr>\n",
       "      <th>2</th>\n",
       "      <td>Tênis</td>\n",
       "      <td>10</td>\n",
       "      <td>200</td>\n",
       "    </tr>\n",
       "    <tr>\n",
       "      <th>3</th>\n",
       "      <td>Boné</td>\n",
       "      <td>15</td>\n",
       "      <td>40</td>\n",
       "    </tr>\n",
       "    <tr>\n",
       "      <th>4</th>\n",
       "      <td>Jaqueta</td>\n",
       "      <td>5</td>\n",
       "      <td>500</td>\n",
       "    </tr>\n",
       "  </tbody>\n",
       "</table>\n",
       "</div>"
      ],
      "text/plain": [
       "    Produto  Quantidade_Vendida  Preco\n",
       "0  Camiseta                  50     30\n",
       "1     Calça                  20    150\n",
       "2     Tênis                  10    200\n",
       "3      Boné                  15     40\n",
       "4   Jaqueta                   5    500"
      ]
     },
     "metadata": {},
     "output_type": "display_data"
    },
    {
     "name": "stdout",
     "output_type": "stream",
     "text": [
      "1500\n",
      "3000\n",
      "2000\n",
      "600\n",
      "2500\n",
      "['Camiseta', 'Calça', 'Tênis', 'Jaqueta']\n"
     ]
    }
   ],
   "source": [
    "dados = {\n",
    "    'Produto': ['Camiseta', 'Calça', 'Tênis', 'Boné', 'Jaqueta'],\n",
    "    'Quantidade_Vendida':[50, 20, 10, 15, 5],\n",
    "    'Preco': [30, 150, 200, 40, 500]\n",
    "}\n",
    "\n",
    "df = pd.DataFrame(dados)\n",
    "display(df)\n",
    "\n",
    "produtos_alta_receita = []\n",
    "\n",
    "for index, row in df.iterrows():\n",
    "    receita = row['Quantidade_Vendida'] * row['Preco']\n",
    "    print(receita)\n",
    "    if receita > 1000:\n",
    "        produtos_alta_receita.append(row['Produto'])\n",
    "\n",
    "print(produtos_alta_receita)"
   ]
  }
 ],
 "metadata": {
  "kernelspec": {
   "display_name": "Python 3",
   "language": "python",
   "name": "python3"
  },
  "language_info": {
   "codemirror_mode": {
    "name": "ipython",
    "version": 3
   },
   "file_extension": ".py",
   "mimetype": "text/x-python",
   "name": "python",
   "nbconvert_exporter": "python",
   "pygments_lexer": "ipython3",
   "version": "3.12.3"
  }
 },
 "nbformat": 4,
 "nbformat_minor": 2
}
